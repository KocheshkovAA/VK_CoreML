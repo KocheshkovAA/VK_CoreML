{
 "cells": [
  {
   "cell_type": "markdown",
   "id": "404c18ee",
   "metadata": {},
   "source": [
    "### Стажировка VK Core ML. Кочешков Александр."
   ]
  },
  {
   "cell_type": "markdown",
   "id": "07289e9a",
   "metadata": {},
   "source": [
    "# Коллаборативный подход. ALS."
   ]
  },
  {
   "cell_type": "code",
   "execution_count": 1,
   "id": "0131a9b5",
   "metadata": {
    "scrolled": false
   },
   "outputs": [
    {
     "name": "stderr",
     "output_type": "stream",
     "text": [
      "22/04/04 20:59:40 WARN Utils: Your hostname, alexander-HP-Pavilion-Gaming-Laptop-15-cx0xxx resolves to a loopback address: 127.0.1.1; using 100.125.6.191 instead (on interface wlo1)\n",
      "22/04/04 20:59:40 WARN Utils: Set SPARK_LOCAL_IP if you need to bind to another address\n",
      "22/04/04 20:59:40 WARN NativeCodeLoader: Unable to load native-hadoop library for your platform... using builtin-java classes where applicable\n",
      "Using Spark's default log4j profile: org/apache/spark/log4j-defaults.properties\n",
      "Setting default log level to \"WARN\".\n",
      "To adjust logging level use sc.setLogLevel(newLevel). For SparkR, use setLogLevel(newLevel).\n",
      "22/04/04 20:59:42 WARN Utils: Service 'SparkUI' could not bind on port 4040. Attempting port 4041.\n"
     ]
    }
   ],
   "source": [
    "import pandas as pd\n",
    "import numpy as np\n",
    "from pyspark.sql.functions import col, explode\n",
    "from pyspark import SparkContext\n",
    "\n",
    "from pyspark.sql import SparkSession\n",
    "sc = SparkContext\n",
    "spark = SparkSession.builder.appName('rec').getOrCreate()"
   ]
  },
  {
   "cell_type": "markdown",
   "id": "0ac41474",
   "metadata": {},
   "source": [
    "Коллаборативный подход дает рекомендацию на основе того, насколько похожим пользователям понравился товар, поэтому нам необходимы только id фильмов, id пользователей и рейтинги фильмов, представленные в файле rating.csv. movie.csv загружаем для вывода названий файла.\n",
    "\n",
    "Загружаем датасет, используем только часть данных, так как обладаем ограниченной мощностью компьютера. "
   ]
  },
  {
   "cell_type": "code",
   "execution_count": 2,
   "id": "e8715e3b",
   "metadata": {
    "scrolled": false
   },
   "outputs": [
    {
     "name": "stderr",
     "output_type": "stream",
     "text": [
      "                                                                                \r"
     ]
    },
    {
     "name": "stdout",
     "output_type": "stream",
     "text": [
      "+------+-------+------+\n",
      "|userId|movieId|rating|\n",
      "+------+-------+------+\n",
      "|     1|      2|   3.5|\n",
      "|     1|     29|   3.5|\n",
      "|     1|     32|   3.5|\n",
      "|     1|     47|   3.5|\n",
      "|     1|     50|   3.5|\n",
      "|     1|    112|   3.5|\n",
      "|     1|    151|   4.0|\n",
      "|     1|    223|   4.0|\n",
      "|     1|    253|   4.0|\n",
      "|     1|    260|   4.0|\n",
      "|     1|    293|   4.0|\n",
      "|     1|    296|   4.0|\n",
      "|     1|    318|   4.0|\n",
      "|     1|    337|   3.5|\n",
      "|     1|    367|   3.5|\n",
      "|     1|    541|   4.0|\n",
      "|     1|    589|   3.5|\n",
      "|     1|    593|   3.5|\n",
      "|     1|    653|   3.0|\n",
      "|     1|    919|   3.5|\n",
      "+------+-------+------+\n",
      "only showing top 20 rows\n",
      "\n",
      "root\n",
      " |-- userId: integer (nullable = true)\n",
      " |-- movieId: integer (nullable = true)\n",
      " |-- rating: float (nullable = true)\n",
      "\n",
      "+-------+------------------+------------------+------------------+\n",
      "|summary|            userId|           movieId|            rating|\n",
      "+-------+------------------+------------------+------------------+\n",
      "|  count|            100000|            100000|            100000|\n",
      "|   mean|          362.8304|         8572.4658|          3.507605|\n",
      "| stddev|196.80290335680382|19056.086005583322|1.0629280136183357|\n",
      "|    min|                 1|                 1|               0.5|\n",
      "|    max|               702|            128594|               5.0|\n",
      "+-------+------------------+------------------+------------------+\n",
      "\n"
     ]
    }
   ],
   "source": [
    "ratings = pd.read_csv('./rating.csv')[:100000].drop('timestamp', axis=1)\n",
    "movies = pd.read_csv('./movie.csv')[:100000]\n",
    "\n",
    "movies = spark.createDataFrame(movies)\n",
    "ratings = spark.createDataFrame(ratings)\n",
    "\n",
    "ratings = ratings.\\\n",
    "    withColumn('userId', col('userId').cast('integer')).\\\n",
    "    withColumn('movieId', col('movieId').cast('integer')).\\\n",
    "    withColumn('rating', col('rating').cast('float')).\\\n",
    "    drop('timestamp')\n",
    "\n",
    "ratings.show()\n",
    "ratings.printSchema()\n",
    "ratings.describe().show()"
   ]
  },
  {
   "cell_type": "markdown",
   "id": "3682381e",
   "metadata": {},
   "source": [
    "Для коллаборативного подхода будем использовать алгоритм ALS реализованный в PySpark."
   ]
  },
  {
   "cell_type": "code",
   "execution_count": 3,
   "id": "4d6d9ad9",
   "metadata": {},
   "outputs": [],
   "source": [
    "from pyspark.ml.evaluation import RegressionEvaluator\n",
    "from pyspark.ml.recommendation import ALS\n",
    "from pyspark.ml.tuning import ParamGridBuilder, CrossValidator"
   ]
  },
  {
   "cell_type": "markdown",
   "id": "a978dc93",
   "metadata": {},
   "source": [
    "Перемешенный датасет делим на тренировочный и тестовый наборы в соотношении 8 к 2.   \n",
    "\n",
    "Создаем модель, ставим ограничение неотрицательности. В coldStartStrategy ставим параметр 'drop', чтобы удалить любые строки в датафрейме предсказаний, содержащие NaN значения. Используем явную обратную связь."
   ]
  },
  {
   "cell_type": "code",
   "execution_count": 4,
   "id": "81bcf1f8",
   "metadata": {},
   "outputs": [],
   "source": [
    "(train, test) = ratings.randomSplit([0.8, 0.2], seed = 1234)\n",
    "als = ALS(userCol=\"userId\", itemCol=\"movieId\", ratingCol=\"rating\", nonnegative = True, implicitPrefs = False, coldStartStrategy=\"drop\")"
   ]
  },
  {
   "cell_type": "markdown",
   "id": "be3dc4ca",
   "metadata": {},
   "source": [
    "Строим сетку параметров на основе количества скрытых факторов в модели и параметре регуляризации."
   ]
  },
  {
   "cell_type": "code",
   "execution_count": 5,
   "id": "05a145e1",
   "metadata": {},
   "outputs": [],
   "source": [
    "param_grid = ParamGridBuilder() \\\n",
    "            .addGrid(als.rank, [10, 50, 100, 150]) \\\n",
    "            .addGrid(als.regParam, [.01, .05, .1, .15]) \\\n",
    "            .build()\n",
    "pass"
   ]
  },
  {
   "cell_type": "markdown",
   "id": "ff64f386",
   "metadata": {},
   "source": [
    "Используем rmse оценку."
   ]
  },
  {
   "cell_type": "code",
   "execution_count": 6,
   "id": "d2491fc1",
   "metadata": {},
   "outputs": [],
   "source": [
    "evaluator = RegressionEvaluator(metricName=\"rmse\", labelCol=\"rating\", predictionCol=\"prediction\") "
   ]
  },
  {
   "cell_type": "markdown",
   "id": "fb90c3bc",
   "metadata": {},
   "source": [
    "В качестве валидации используем перекрестную проверку K-Folds, (numFolds - 1) часть для тренировки и numFolds часть для тестировки.Это приводит к менее предвзятой модели по сравнению с другими методами. Потому что это гарантирует, что каждое наблюдение из исходного набора данных может появиться в обучающем и тестовом наборах."
   ]
  },
  {
   "cell_type": "code",
   "execution_count": 7,
   "id": "069b0265",
   "metadata": {},
   "outputs": [],
   "source": [
    "cv = CrossValidator(estimator=als, estimatorParamMaps=param_grid, evaluator=evaluator, numFolds=5)"
   ]
  },
  {
   "cell_type": "markdown",
   "id": "0b8ba54a",
   "metadata": {},
   "source": [
    "Тренируем полученные модели и выбираем лучшую."
   ]
  },
  {
   "cell_type": "code",
   "execution_count": 8,
   "id": "af7a7bdb",
   "metadata": {
    "scrolled": false
   },
   "outputs": [
    {
     "name": "stderr",
     "output_type": "stream",
     "text": [
      "22/04/04 21:00:15 WARN BLAS: Failed to load implementation from: com.github.fommil.netlib.NativeSystemBLAS\n",
      "22/04/04 21:00:15 WARN BLAS: Failed to load implementation from: com.github.fommil.netlib.NativeRefBLAS\n",
      "                                                                                \r"
     ]
    }
   ],
   "source": [
    "model = cv.fit(train)\n",
    "best_model = model.bestModel"
   ]
  },
  {
   "cell_type": "markdown",
   "id": "8d0da18d",
   "metadata": {},
   "source": [
    "На основании полученной лучшей модели выбираем значения гиперпараметров."
   ]
  },
  {
   "cell_type": "code",
   "execution_count": 9,
   "id": "0d48cc76",
   "metadata": {},
   "outputs": [
    {
     "name": "stdout",
     "output_type": "stream",
     "text": [
      "**Best Model**\n",
      "  Rank: 50\n",
      "  MaxIter: 10\n",
      "  RegParam: 0.15\n"
     ]
    }
   ],
   "source": [
    "print(\"**Best Model**\")\n",
    "print(\"  Rank:\", best_model._java_obj.parent().getRank())\n",
    "print(\"  MaxIter:\", best_model._java_obj.parent().getMaxIter())\n",
    "print(\"  RegParam:\", best_model._java_obj.parent().getRegParam())"
   ]
  },
  {
   "cell_type": "markdown",
   "id": "20b1668c",
   "metadata": {},
   "source": [
    "Используем среднеквадратичную ошибку для оценки полученных результатов."
   ]
  },
  {
   "cell_type": "code",
   "execution_count": 10,
   "id": "cc93f3f0",
   "metadata": {
    "scrolled": false
   },
   "outputs": [
    {
     "name": "stderr",
     "output_type": "stream",
     "text": [
      "                                                                                \r"
     ]
    },
    {
     "name": "stdout",
     "output_type": "stream",
     "text": [
      "RMSE:  0.8956879907592946\n"
     ]
    },
    {
     "name": "stderr",
     "output_type": "stream",
     "text": [
      "\r",
      "[Stage 6752:==========================>                         (101 + 8) / 200]\r",
      "\r",
      "[Stage 6752:=====================================>              (143 + 8) / 200]\r"
     ]
    },
    {
     "name": "stdout",
     "output_type": "stream",
     "text": [
      "+------+-------+------+----------+\n",
      "|userId|movieId|rating|prediction|\n",
      "+------+-------+------+----------+\n",
      "|   490|    148|   3.0| 1.7579681|\n",
      "|   233|    471|   3.0| 3.4962096|\n",
      "|   504|    471|   3.0| 3.4624743|\n",
      "|   387|    471|   4.5| 3.9305794|\n",
      "|   445|    471|   3.0| 3.2011316|\n",
      "|   448|    471|   4.5|  3.716158|\n",
      "|   394|    471|   4.0| 3.8506896|\n",
      "|   469|    471|   5.0| 3.1042137|\n",
      "|   702|    471|   4.5|  2.934309|\n",
      "|   147|    471|   4.5| 3.3573716|\n",
      "|   294|    471|   3.0| 3.3056407|\n",
      "|   208|    471|   3.5|  3.398041|\n",
      "|   137|   1088|   5.0|   3.56869|\n",
      "|   133|   1088|   2.5|  2.235777|\n",
      "|   375|   1088|   4.0| 3.5350673|\n",
      "|   140|   1088|   3.0|  3.206266|\n",
      "|   178|   1088|   4.0| 3.5788054|\n",
      "|    54|   1088|   3.0| 2.9963508|\n",
      "|   586|   1088|   1.0| 2.7815547|\n",
      "|   609|   1088|   2.0|  1.930529|\n",
      "+------+-------+------+----------+\n",
      "only showing top 20 rows\n",
      "\n"
     ]
    },
    {
     "name": "stderr",
     "output_type": "stream",
     "text": [
      "\r",
      "[Stage 6752:===============================================>    (183 + 8) / 200]\r",
      "\r",
      "                                                                                \r"
     ]
    }
   ],
   "source": [
    "test_predictions = best_model.transform(test)\n",
    "RMSE = evaluator.evaluate(test_predictions)\n",
    "print(\"RMSE: \", RMSE)\n",
    "test_predictions.show()"
   ]
  },
  {
   "cell_type": "markdown",
   "id": "11e9b82e",
   "metadata": {},
   "source": [
    "RMSE для лучшей модели составляет 0,89, что означает, что в среднем модель предсказывает 0,89 выше или ниже значений исходной матрицы оценок. "
   ]
  },
  {
   "cell_type": "markdown",
   "id": "ae7eeac8",
   "metadata": {},
   "source": [
    "Составляем 10 рекомендаций пользователю."
   ]
  },
  {
   "cell_type": "code",
   "execution_count": 11,
   "id": "0a29d399",
   "metadata": {},
   "outputs": [],
   "source": [
    "nrecommendations = best_model.recommendForAllUsers(10)\n",
    "nrecommendations = nrecommendations\\\n",
    "    .withColumn(\"rec_exp\", explode(\"recommendations\"))\\\n",
    "    .select('userId', col(\"rec_exp.movieId\"), col(\"rec_exp.rating\"))"
   ]
  },
  {
   "cell_type": "markdown",
   "id": "192a1e4c",
   "metadata": {},
   "source": [
    "Предложенные фильмы."
   ]
  },
  {
   "cell_type": "code",
   "execution_count": 12,
   "id": "9a2ef88a",
   "metadata": {
    "scrolled": false
   },
   "outputs": [
    {
     "name": "stderr",
     "output_type": "stream",
     "text": [
      "                                                                                \r"
     ]
    },
    {
     "name": "stdout",
     "output_type": "stream",
     "text": [
      "+-------+------+---------+--------------------+--------------------+\n",
      "|movieId|userId|   rating|               title|              genres|\n",
      "+-------+------+---------+--------------------+--------------------+\n",
      "|   4798|    89| 4.567231|   Indiscreet (1958)|      Comedy|Romance|\n",
      "|  48326|    89| 4.687698|All the King's Me...|               Drama|\n",
      "|  84775|    89|4.6143117|    Submarino (2010)|               Drama|\n",
      "|  86345|    89| 4.521102|Louis C.K.: Hilar...|              Comedy|\n",
      "| 100714|    89| 4.734184|Before Midnight (...|       Drama|Romance|\n",
      "|  82934|    89| 4.764494|Most Dangerous Ma...|         Documentary|\n",
      "|  80590|    89|4.5553427|Wall Street: Mone...|               Drama|\n",
      "|  71033|    89|4.6313367|Secret in Their E...|Crime|Drama|Myste...|\n",
      "| 109697|    89|4.6143117|Inspector Palmu's...|Comedy|Crime|Myst...|\n",
      "|   5004|    89|4.7794514|   Party, The (1968)|              Comedy|\n",
      "+-------+------+---------+--------------------+--------------------+\n",
      "\n"
     ]
    }
   ],
   "source": [
    "nrecommendations.join(movies, on='movieId').filter('userId = 89').show()"
   ]
  },
  {
   "cell_type": "markdown",
   "id": "7d5e88e9",
   "metadata": {},
   "source": [
    "Фильмы предпочитаемые пользователем."
   ]
  },
  {
   "cell_type": "code",
   "execution_count": 13,
   "id": "02953ee3",
   "metadata": {
    "scrolled": true
   },
   "outputs": [
    {
     "name": "stdout",
     "output_type": "stream",
     "text": [
      "+-------+------+------+--------------------+--------------------+\n",
      "|movieId|userId|rating|               title|              genres|\n",
      "+-------+------+------+--------------------+--------------------+\n",
      "|   4148|    89|   5.0|     Hannibal (2001)|     Horror|Thriller|\n",
      "|   3578|    89|   5.0|    Gladiator (2000)|Action|Adventure|...|\n",
      "|   2707|    89|   5.0|Arlington Road (1...|            Thriller|\n",
      "|   4235|    89|   5.0|Amores Perros (Lo...|      Drama|Thriller|\n",
      "|    111|    89|   5.0|  Taxi Driver (1976)|Crime|Drama|Thriller|\n",
      "|   4167|    89|   5.0|   15 Minutes (2001)|            Thriller|\n",
      "|    318|    89|   5.0|Shawshank Redempt...|         Crime|Drama|\n",
      "|    715|    89|   5.0|Horseman on the R...|       Drama|Romance|\n",
      "|   2324|    89|   5.0|Life Is Beautiful...|Comedy|Drama|Roma...|\n",
      "|   1127|    89|   5.0|   Abyss, The (1989)|Action|Adventure|...|\n",
      "+-------+------+------+--------------------+--------------------+\n",
      "\n"
     ]
    }
   ],
   "source": [
    "ratings.join(movies, on='movieId').filter('userId = 89').sort('rating', ascending=False).limit(10).show()"
   ]
  },
  {
   "cell_type": "markdown",
   "id": "1f9cbf02",
   "metadata": {},
   "source": [
    "Рекомендованные фильмы в основном относятся к драме, что близко к предпочитаемым пользователем фильмам."
   ]
  },
  {
   "cell_type": "markdown",
   "id": "59fd5c46",
   "metadata": {},
   "source": [
    "# Коллаборативный + контентный подход. LightFM."
   ]
  },
  {
   "cell_type": "markdown",
   "id": "e5414d2b",
   "metadata": {},
   "source": [
    "В данном подходе, помимо использованных в прошлом алгоритме данных,  в качестве метрик будем использовать название фильма, жанры фильма и тэги фильма. Эти метрики должны оказывать наибольшее влияние на выбор пользователя, так как они дают наибольшую информацию о фильме."
   ]
  },
  {
   "cell_type": "code",
   "execution_count": 14,
   "id": "4c4cafe3",
   "metadata": {},
   "outputs": [],
   "source": [
    "import numpy as np\n",
    "import pandas as pd \n",
    "\n",
    "ratings2 = pd.read_csv('./rating.csv')[:100000].drop('timestamp', axis=1)\n",
    "tags2 = pd.read_csv('./tag.csv')[:100000].drop('timestamp', axis=1)\n",
    "movies2 = pd.read_csv('./movie.csv')[:100000]"
   ]
  },
  {
   "cell_type": "markdown",
   "id": "90af1d1e",
   "metadata": {},
   "source": [
    "### Метаданные фильмов"
   ]
  },
  {
   "cell_type": "markdown",
   "id": "96d2110a",
   "metadata": {},
   "source": [
    "Формируем средние значения рейтинга фильма. Объединяем тэги фильма, пустые тэги заменяем значением 'No tag'. Собираем все в один датафрейм. Так как используем не весь датасет, берем данные только по фильмам, которые загружены из файла movie.csv (не учитываем тэги к фильмам, которые не загрузили)."
   ]
  },
  {
   "cell_type": "code",
   "execution_count": 15,
   "id": "cae19d60",
   "metadata": {},
   "outputs": [],
   "source": [
    "mean_ratings = ratings2.drop('userId', axis=1).groupby('movieId').agg('mean')\n",
    "mean_ratings.rename(columns = {'rating' : 'average_rating'}, inplace = True)"
   ]
  },
  {
   "cell_type": "code",
   "execution_count": 16,
   "id": "d8d37261",
   "metadata": {},
   "outputs": [],
   "source": [
    "movie_tags = tags2.groupby(\"movieId\")['tag'].agg(lambda x: set(x)).reset_index()\n",
    "movie_tags['metadata'] = movie_tags['tag'].str.join(\", \")\n",
    "\n",
    "items = pd.merge(movies2,movie_tags.drop(columns = 'tag'),how = 'left')\n",
    "items['metadata']= items['metadata'].fillna('No tag')\n",
    "\n",
    "movies_metadata_selected = pd.merge(items,mean_ratings,how = 'inner', left_on='movieId', right_on='movieId')"
   ]
  },
  {
   "cell_type": "markdown",
   "id": "5b2b6a1a",
   "metadata": {},
   "source": [
    "Замениям отсутствующие значения. Преобразуем значения интервала для числовых переменных в дискретные интервалы. "
   ]
  },
  {
   "cell_type": "code",
   "execution_count": 17,
   "id": "b7f1b1fb",
   "metadata": {
    "scrolled": true
   },
   "outputs": [
    {
     "data": {
      "text/html": [
       "<div>\n",
       "<style scoped>\n",
       "    .dataframe tbody tr th:only-of-type {\n",
       "        vertical-align: middle;\n",
       "    }\n",
       "\n",
       "    .dataframe tbody tr th {\n",
       "        vertical-align: top;\n",
       "    }\n",
       "\n",
       "    .dataframe thead th {\n",
       "        text-align: right;\n",
       "    }\n",
       "</style>\n",
       "<table border=\"1\" class=\"dataframe\">\n",
       "  <thead>\n",
       "    <tr style=\"text-align: right;\">\n",
       "      <th></th>\n",
       "      <th>movieId</th>\n",
       "      <th>title</th>\n",
       "      <th>genres</th>\n",
       "      <th>metadata</th>\n",
       "      <th>average_rating</th>\n",
       "    </tr>\n",
       "  </thead>\n",
       "  <tbody>\n",
       "    <tr>\n",
       "      <th>1169</th>\n",
       "      <td>1398</td>\n",
       "      <td>In Love and War (1996)</td>\n",
       "      <td>Romance|War</td>\n",
       "      <td>No tag</td>\n",
       "      <td>2.5</td>\n",
       "    </tr>\n",
       "    <tr>\n",
       "      <th>7368</th>\n",
       "      <td>71530</td>\n",
       "      <td>Surrogates (2009)</td>\n",
       "      <td>Action|Sci-Fi|Thriller</td>\n",
       "      <td>cliche, androids, predictable, Rosamund Pike, ...</td>\n",
       "      <td>3.1</td>\n",
       "    </tr>\n",
       "    <tr>\n",
       "      <th>788</th>\n",
       "      <td>939</td>\n",
       "      <td>Reluctant Debutante, The (1958)</td>\n",
       "      <td>Comedy|Drama</td>\n",
       "      <td>No tag</td>\n",
       "      <td>2.0</td>\n",
       "    </tr>\n",
       "    <tr>\n",
       "      <th>1804</th>\n",
       "      <td>2205</td>\n",
       "      <td>Mr. &amp; Mrs. Smith (1941)</td>\n",
       "      <td>Comedy|Romance</td>\n",
       "      <td>Hitchcock</td>\n",
       "      <td>3.3</td>\n",
       "    </tr>\n",
       "    <tr>\n",
       "      <th>6604</th>\n",
       "      <td>50705</td>\n",
       "      <td>Neverwas (2005)</td>\n",
       "      <td>Drama|Fantasy|Mystery</td>\n",
       "      <td>No tag</td>\n",
       "      <td>4.2</td>\n",
       "    </tr>\n",
       "  </tbody>\n",
       "</table>\n",
       "</div>"
      ],
      "text/plain": [
       "      movieId                            title                  genres  \\\n",
       "1169     1398           In Love and War (1996)             Romance|War   \n",
       "7368    71530                Surrogates (2009)  Action|Sci-Fi|Thriller   \n",
       "788       939  Reluctant Debutante, The (1958)            Comedy|Drama   \n",
       "1804     2205          Mr. & Mrs. Smith (1941)          Comedy|Romance   \n",
       "6604    50705                  Neverwas (2005)   Drama|Fantasy|Mystery   \n",
       "\n",
       "                                               metadata  average_rating  \n",
       "1169                                             No tag             2.5  \n",
       "7368  cliche, androids, predictable, Rosamund Pike, ...             3.1  \n",
       "788                                              No tag             2.0  \n",
       "1804                                          Hitchcock             3.3  \n",
       "6604                                             No tag             4.2  "
      ]
     },
     "execution_count": 17,
     "metadata": {},
     "output_type": "execute_result"
    }
   ],
   "source": [
    "movies_metadata_selected.replace('', np.nan, inplace=True)\n",
    "movies_metadata_selected['average_rating'].replace(np.nan, 0, inplace=True)\n",
    "movies_metadata_selected['average_rating'] = movies_metadata_selected['average_rating'].apply(lambda x: round(x*10)/10)\n",
    "movies_metadata_selected = movies_metadata_selected.sort_values(by=['average_rating'])\n",
    "movies_metadata_selected.sample(5)"
   ]
  },
  {
   "cell_type": "markdown",
   "id": "1db2f614",
   "metadata": {},
   "source": [
    "### Данные о взаимодействиях"
   ]
  },
  {
   "cell_type": "markdown",
   "id": "73515909",
   "metadata": {},
   "source": [
    "Данные соддержат id пользователя, id фильма и оценку пользователя к фильму."
   ]
  },
  {
   "cell_type": "code",
   "execution_count": 18,
   "id": "adeebb99",
   "metadata": {
    "scrolled": false
   },
   "outputs": [
    {
     "data": {
      "text/html": [
       "<div>\n",
       "<style scoped>\n",
       "    .dataframe tbody tr th:only-of-type {\n",
       "        vertical-align: middle;\n",
       "    }\n",
       "\n",
       "    .dataframe tbody tr th {\n",
       "        vertical-align: top;\n",
       "    }\n",
       "\n",
       "    .dataframe thead th {\n",
       "        text-align: right;\n",
       "    }\n",
       "</style>\n",
       "<table border=\"1\" class=\"dataframe\">\n",
       "  <thead>\n",
       "    <tr style=\"text-align: right;\">\n",
       "      <th></th>\n",
       "      <th>movieId</th>\n",
       "      <th>title</th>\n",
       "      <th>genres</th>\n",
       "      <th>metadata</th>\n",
       "      <th>average_rating</th>\n",
       "      <th>userId</th>\n",
       "      <th>rating</th>\n",
       "    </tr>\n",
       "  </thead>\n",
       "  <tbody>\n",
       "    <tr>\n",
       "      <th>54205</th>\n",
       "      <td>1672</td>\n",
       "      <td>Rainmaker, The (1997)</td>\n",
       "      <td>Drama</td>\n",
       "      <td>Danny Glover, Good ending, company, insurance,...</td>\n",
       "      <td>3.6</td>\n",
       "      <td>367</td>\n",
       "      <td>4.0</td>\n",
       "    </tr>\n",
       "    <tr>\n",
       "      <th>18758</th>\n",
       "      <td>4025</td>\n",
       "      <td>Miss Congeniality (2000)</td>\n",
       "      <td>Comedy|Crime</td>\n",
       "      <td>Michael Caine, Cute!, girlie movie, beauty pag...</td>\n",
       "      <td>3.1</td>\n",
       "      <td>578</td>\n",
       "      <td>4.0</td>\n",
       "    </tr>\n",
       "    <tr>\n",
       "      <th>74200</th>\n",
       "      <td>49278</td>\n",
       "      <td>Déjà Vu (Deja Vu) (2006)</td>\n",
       "      <td>Action|Sci-Fi|Thriller</td>\n",
       "      <td>time, time travel, Oh The Things I Could Do If...</td>\n",
       "      <td>3.9</td>\n",
       "      <td>11</td>\n",
       "      <td>4.5</td>\n",
       "    </tr>\n",
       "    <tr>\n",
       "      <th>4530</th>\n",
       "      <td>90439</td>\n",
       "      <td>Margin Call (2011)</td>\n",
       "      <td>Drama|Thriller</td>\n",
       "      <td>realistic, strange ending, corruption, starts ...</td>\n",
       "      <td>2.5</td>\n",
       "      <td>469</td>\n",
       "      <td>3.0</td>\n",
       "    </tr>\n",
       "    <tr>\n",
       "      <th>28410</th>\n",
       "      <td>2985</td>\n",
       "      <td>RoboCop (1987)</td>\n",
       "      <td>Action|Crime|Drama|Sci-Fi|Thriller</td>\n",
       "      <td>romance, cyborgs, Peter Weller, television, vi...</td>\n",
       "      <td>3.3</td>\n",
       "      <td>637</td>\n",
       "      <td>2.0</td>\n",
       "    </tr>\n",
       "  </tbody>\n",
       "</table>\n",
       "</div>"
      ],
      "text/plain": [
       "       movieId                     title                              genres  \\\n",
       "54205     1672     Rainmaker, The (1997)                               Drama   \n",
       "18758     4025  Miss Congeniality (2000)                        Comedy|Crime   \n",
       "74200    49278  Déjà Vu (Deja Vu) (2006)              Action|Sci-Fi|Thriller   \n",
       "4530     90439        Margin Call (2011)                      Drama|Thriller   \n",
       "28410     2985            RoboCop (1987)  Action|Crime|Drama|Sci-Fi|Thriller   \n",
       "\n",
       "                                                metadata  average_rating  \\\n",
       "54205  Danny Glover, Good ending, company, insurance,...             3.6   \n",
       "18758  Michael Caine, Cute!, girlie movie, beauty pag...             3.1   \n",
       "74200  time, time travel, Oh The Things I Could Do If...             3.9   \n",
       "4530   realistic, strange ending, corruption, starts ...             2.5   \n",
       "28410  romance, cyborgs, Peter Weller, television, vi...             3.3   \n",
       "\n",
       "       userId  rating  \n",
       "54205     367     4.0  \n",
       "18758     578     4.0  \n",
       "74200      11     4.5  \n",
       "4530      469     3.0  \n",
       "28410     637     2.0  "
      ]
     },
     "execution_count": 18,
     "metadata": {},
     "output_type": "execute_result"
    }
   ],
   "source": [
    "interactions_selected = pd.merge(movies_metadata_selected,\n",
    "                                ratings2,\n",
    "                                how = 'inner', \n",
    "                                left_on='movieId',\n",
    "                                right_on='movieId')\n",
    "interactions_selected = interactions_selected.sort_values(by=['average_rating'])\n",
    "interactions_selected.sample(5)"
   ]
  },
  {
   "cell_type": "markdown",
   "id": "39f3a2bf",
   "metadata": {},
   "source": [
    "Создаем словарь для будущих ссылок. Преобразуем метаданные о фильмах в разряженную матрицу CSR."
   ]
  },
  {
   "cell_type": "code",
   "execution_count": 19,
   "id": "94928522",
   "metadata": {},
   "outputs": [],
   "source": [
    "from scipy.sparse import csr_matrix\n",
    "\n",
    "item_dict ={}\n",
    "\n",
    "movie_id_title = movies_metadata_selected[['movieId', \n",
    "    'title']].sort_values('movieId').reset_index()\n",
    "\n",
    "for i in range(movie_id_title.shape[0]):\n",
    "    item_dict[(movie_id_title.loc[i,'movieId'])] = movie_id_title.loc[i,'title']\n",
    "    \n",
    "movies_metadata_selected_transformed = pd.get_dummies(movies_metadata_selected)\n",
    "\n",
    "movies_metadata_selected_transformed = \\\n",
    "movies_metadata_selected_transformed.sort_values('movieId').reset_index().drop('index', axis=1)\n",
    "\n",
    "\n",
    "movies_metadata_csr = \\\n",
    "csr_matrix(movies_metadata_selected_transformed.drop('movieId',axis=1).values.T)"
   ]
  },
  {
   "cell_type": "markdown",
   "id": "b481921a",
   "metadata": {},
   "source": [
    "Создаем словарь пользователей для будущих ссылок. Создаем матрицу взаимодействий."
   ]
  },
  {
   "cell_type": "code",
   "execution_count": 20,
   "id": "1cff7ccd",
   "metadata": {},
   "outputs": [],
   "source": [
    "user_movie_interaction = pd.pivot_table(pd.merge(interactions_selected,\n",
    "                                                 movies_metadata_selected,\n",
    "                                                 how = 'inner', \n",
    "                                                 left_on='movieId',\n",
    "                                                 right_on='movieId'),\n",
    "        index='userId', columns='movieId', values='rating')\n",
    "\n",
    "user_movie_interaction = user_movie_interaction.fillna(0)\n",
    "\n",
    "user_id = list(user_movie_interaction.index)\n",
    "user_dict = {}\n",
    "counter = 0 \n",
    "for i in user_id:\n",
    "    user_dict[i] = counter\n",
    "    counter += 1\n",
    "    \n",
    "user_movie_interaction_csr = csr_matrix(user_movie_interaction.values)"
   ]
  },
  {
   "cell_type": "markdown",
   "id": "c8b2c4f2",
   "metadata": {},
   "source": [
    "Разбиение данных на обучение и валидацию 0.8 к 0.2 соответственно."
   ]
  },
  {
   "cell_type": "code",
   "execution_count": 21,
   "id": "85781a9c",
   "metadata": {},
   "outputs": [],
   "source": [
    "from lightfm import cross_validation\n",
    "train, test = cross_validation.\\\n",
    "random_train_test_split(user_movie_interaction_csr, test_percentage=0.2)"
   ]
  },
  {
   "cell_type": "markdown",
   "id": "f4fdd711",
   "metadata": {},
   "source": [
    "Обучаем модель.  \n",
    "В качестве функции потерь используем warp, так как он показал лучшие результаты в ходе испытаний.  \n",
    "Используем алгоритм оптимизации adadelta, котрый показал лучший резутьтат чем adagrad.\n",
    "Входе исследования были также выбраны значения: max_sampled, rho, user_alpha и no_components."
   ]
  },
  {
   "cell_type": "code",
   "execution_count": 22,
   "id": "a7ef4d6f",
   "metadata": {},
   "outputs": [],
   "source": [
    "from lightfm import LightFM\n",
    "\n",
    "model = LightFM(loss='warp',\n",
    "                learning_schedule = 'adadelta',\n",
    "                random_state = 2022,\n",
    "                no_components = 15,\n",
    "                user_alpha = 0.0001,\n",
    "                rho = 0.5,\n",
    "                max_sampled = 5)\n",
    "\n",
    "model = model.fit(train,\n",
    "                  epochs=100,\n",
    "                  item_features=movies_metadata_csr,\n",
    "                  num_threads=16, verbose=False)"
   ]
  },
  {
   "cell_type": "markdown",
   "id": "1be0623e",
   "metadata": {},
   "source": [
    "Выводим топ n рекомендаций."
   ]
  },
  {
   "cell_type": "code",
   "execution_count": 23,
   "id": "7c865323",
   "metadata": {
    "scrolled": false
   },
   "outputs": [
    {
     "name": "stdout",
     "output_type": "stream",
     "text": [
      "User: 89\n",
      "Known Likes:\n",
      "1- Final Fantasy: The Spirits Within (2001) - 4351    Adventure|Animation|Fantasy|Sci-Fi\n",
      "2- Cats & Dogs (2001) - 4291    Children|Comedy\n",
      "3- Baby Boy (2001) - 4276    Crime|Drama\n",
      "4- Lara Croft: Tomb Raider (2001) - 4272    Action|Adventure\n",
      "5- Swordfish (2001) - 4249    Action|Crime|Drama\n",
      "6- Animal, The (2001) - 4245    Comedy\n",
      "7- Shrek (2001) - 4211    Adventure|Animation|Children|Comedy|Fantasy|Ro...\n",
      "8- Angel Eyes (2001) - 4210    Romance|Thriller\n",
      "9- Knight's Tale, A (2001) - 4204    Action|Comedy|Romance\n",
      "10- Mummy Returns, The (2001) - 4175    Action|Adventure|Comedy|Thriller\n",
      "11- Town & Country (2001) - 4173    Comedy\n",
      "12- One Night at McCool's (2001) - 4172    Comedy\n",
      "13- Driven (2001) - 4170    Action|Thriller\n",
      "14- Joe Dirt (2001) - 4153    Adventure|Comedy|Mystery|Romance\n",
      "15- Bridget Jones's Diary (2001) - 4152    Comedy|Drama|Romance\n",
      "16- Just Visiting (2001) - 4146    Comedy|Fantasy\n",
      "17- Blow (2001) - 4145    Crime|Drama\n",
      "18- Along Came a Spider (2001) - 4144    Action|Crime|Mystery|Thriller\n",
      "19- Amores Perros (Love's a Bitch) (2000) - 4141    Drama|Thriller\n",
      "20- Tailor of Panama, The (2001) - 4140    Drama|Thriller\n",
      "21- Memento (2000) - 4132    Mystery|Thriller\n",
      "22- Enemy at the Gates (2001) - 4129    Drama|War\n",
      "23- Revenge of the Nerds II: Nerds in Paradise (1987) - 4121    Comedy\n",
      "24- Revenge of the Nerds (1984) - 4120    Comedy\n",
      "25- Harley Davidson and the Marlboro Man (1991) - 4109    Action|Crime|Drama\n",
      "26- Double Impact (1991) - 4106    Action\n",
      "27- 15 Minutes (2001) - 4073    Thriller\n",
      "28- Series 7: The Contenders (2001) - 4072    Action|Drama\n",
      "29- Company Man (2000) - 4062    Comedy\n",
      "30- Hannibal (2001) - 4054    Horror|Thriller\n",
      "31- Mannequin (1987) - 4038    Comedy|Romance\n",
      "32- Legend of Drunken Master, The (Jui kuen II) (1994) - 3878    Action|Comedy\n",
      "33- Bedazzled (2000) - 3874    Comedy\n",
      "34- Lost Souls (2000) - 3862    Drama|Horror|Thriller\n",
      "35- Contender, The (2000) - 3858    Drama|Thriller\n",
      "36- Meet the Parents (2000) - 3854    Comedy\n",
      "37- Get Carter (2000) - 3852    Action|Drama|Thriller\n",
      "38- Woman on Top (2000) - 3816    Comedy|Romance\n",
      "39- Urban Legends: Final Cut (2000) - 3815    Horror\n",
      "40- Under Suspicion (2000) - 3813    Crime|Thriller\n",
      "41- Bait (2000) - 3805    Action|Comedy\n",
      "42- Watcher, The (2000) - 3802    Crime|Thriller\n",
      "43- Art of War, The (2000) - 3786    Action|Thriller\n",
      "44- Original Kings of Comedy, The (2000) - 3772    Comedy|Documentary\n",
      "45- Cell, The (2000) - 3770    Drama|Horror|Thriller\n",
      "46- Hollow Man (2000) - 3734    Horror|Sci-Fi|Thriller\n",
      "47- What Lies Beneath (2000) - 3707    Drama|Horror|Mystery\n",
      "48- Patriot, The (2000) - 3662    Action|Drama|War\n",
      "49- Gone in 60 Seconds (2000) - 3626    Action|Crime\n",
      "50- Spy Who Loved Me, The (1977) - 3544    Action|Adventure|Thriller\n",
      "51- Mission: Impossible II (2000) - 3532    Action|Adventure|Thriller\n",
      "52- Road Trip (2000) - 3526    Comedy\n",
      "53- Whipped (2000) - 3506    Comedy\n",
      "54- Battlefield Earth (2000) - 3502    Action|Sci-Fi\n",
      "55- Gladiator (2000) - 3487    Action|Adventure|Drama\n",
      "56- Where the Money Is (2000) - 3446    Comedy|Drama\n",
      "57- Misery (1990) - 3409    Drama|Horror|Thriller\n",
      "58- Road to El Dorado, The (2000) - 3393    Animation|Children\n",
      "59- Pitch Black (2000) - 3213    Horror|Sci-Fi|Thriller\n",
      "60- Boiler Room (2000) - 3211    Crime|Drama|Thriller\n",
      "61- Scream 3 (2000) - 3186    Comedy|Horror|Mystery|Thriller\n",
      "62- Eye of the Beholder (1999) - 3151    Thriller\n",
      "63- Talented Mr. Ripley, The (1999) - 3089    Drama|Mystery|Thriller\n",
      "64- Magnolia (1999) - 3073    Drama\n",
      "65- Sleepy Hollow (1999) - 2994    Fantasy|Horror|Mystery|Romance\n",
      "66- Messenger: The Story of Joan of Arc, The (1999) - 2966    Drama|War\n",
      "67- Bone Collector, The (1999) - 2919    Thriller\n",
      "68- Bachelor, The (1999) - 2918    Comedy|Romance\n",
      "69- Bringing Out the Dead (1999) - 2890    Drama\n",
      "70- Story of Us, The (1999) - 2875    Comedy|Drama\n",
      "71- Superstar (1999) - 2821    Comedy\n",
      "72- Jakob the Liar (1999) - 2796    Drama\n",
      "73- Double Jeopardy (1999) - 2795    Action|Crime|Drama|Thriller\n",
      "74- American Beauty (1999) - 2772    Comedy|Drama\n",
      "75- Stir of Echoes (1999) - 2755    Horror|Mystery|Thriller\n",
      "76- Stigmata (1999) - 2754    Drama|Thriller\n",
      "77- Astronaut's Wife, The (1999) - 2741    Horror|Sci-Fi|Thriller\n",
      "78- 13th Warrior, The (1999) - 2740    Action|Adventure|Fantasy\n",
      "79- Teaching Mrs. Tingle (1999) - 2720    Comedy|Thriller\n",
      "80- Mickey Blue Eyes (1999) - 2719    Comedy|Romance\n",
      "81- Brokedown Palace (1999) - 2685    Drama\n",
      "82- Bowfinger (1999) - 2684    Comedy\n",
      "83- Sixth Sense, The (1999) - 2676    Drama|Horror|Mystery\n",
      "84- Mosquito Coast, The (1986) - 2648    Adventure|Drama|Thriller\n",
      "85- Runaway Bride (1999) - 2638    Comedy|Romance\n",
      "86- Haunting, The (1999) - 2633    Horror|Thriller\n",
      "87- Ghostbusters (a.k.a. Ghost Busters) (1984) - 2630    Action|Comedy|Sci-Fi\n",
      "88- Velocity of Gary, The (1998) - 2629    Comedy|Romance\n",
      "89- Lake Placid (1999) - 2627    Horror|Thriller\n",
      "90- Eyes Wide Shut (1999) - 2626    Drama|Mystery|Thriller\n",
      "91- Blair Witch Project, The (1999) - 2624    Drama|Horror|Thriller\n",
      "92- Arlington Road (1999) - 2621    Thriller\n",
      "93- Red Violin, The (Violon rouge, Le) (1998) - 2600    Drama|Mystery\n",
      "94- Instinct (1999) - 2590    Drama|Thriller\n",
      "95- Thirteenth Floor, The (1999) - 2586    Drama|Sci-Fi|Thriller\n",
      "96- Idle Hands (1999) - 2521    Comedy|Horror\n",
      "97- Entrapment (1999) - 2520    Crime|Thriller\n",
      "98- Pushing Tin (1999) - 2513    Comedy\n",
      "99- Out-of-Towners, The (1999) - 2489    Comedy\n",
      "100- Mod Squad, The (1999) - 2483    Action|Crime\n",
      "101- Cruel Intentions (1999) - 2456    Drama\n",
      "102- 20 Dates (1998) - 2407    Comedy|Romance\n",
      "103- Payback (1999) - 2405    Action|Thriller\n",
      "104- Civil Action, A (1998) - 2348    Drama\n",
      "105- Karate Kid, Part III, The (1989) - 2337    Action|Adventure|Children|Drama\n",
      "106- Life Is Beautiful (La Vita è bella) (1997) - 2239    Comedy|Drama|Romance|War\n",
      "107- 54 (1998) - 2104    Drama\n",
      "108- Godfather: Part III, The (1990) - 1939    Crime|Drama|Mystery|Thriller\n",
      "109- Out of Africa (1985) - 1875    Drama|Romance\n",
      "110- Dr. Dolittle (1998) - 1827    Comedy\n",
      "111- Godfather: Part II, The (1974) - 1195    Crime|Drama\n",
      "112- Psycho (1960) - 1193    Crime|Horror\n",
      "113- Abyss, The (1989) - 1104    Action|Adventure|Sci-Fi|Thriller\n",
      "114- Doors, The (1991) - 1071    Drama\n",
      "115- Gone with the Wind (1939) - 903    Drama|Romance|War\n",
      "116- Godfather, The (1972) - 843    Crime|Drama\n",
      "117- Horseman on the Roof, The (Hussard sur le toit, Le) (1995) - 703    Drama|Romance\n",
      "118- Sgt. Bilko (1996) - 630    Comedy\n",
      "119- Schindler's List (1993) - 523    Drama|War\n",
      "120- Shawshank Redemption, The (1994) - 315    Crime|Drama\n",
      "121- Taxi Driver (1976) - 109    Crime|Drama|Thriller\n",
      "\n",
      " Recommended Items:\n",
      "1- Toy Story (1995) - 0    Adventure|Animation|Children|Comedy|Fantasy\n",
      "2- End of Days (1999) - 3026    Action|Fantasy|Horror|Mystery|Thriller\n",
      "3- Edward Scissorhands (1990) - 2206    Drama|Fantasy|Romance\n",
      "4- Fight Club (1999) - 2873    Action|Crime|Drama|Thriller\n",
      "5- Matrix, The (1999) - 2486    Action|Sci-Fi|Thriller\n"
     ]
    }
   ],
   "source": [
    "def sample_recommendation_user(model, interactions, user_id, user_dict, \n",
    "                               item_dict,threshold = 0,nrec_items = 5, show = True):\n",
    "    n_users, n_items = interactions.shape\n",
    "    user_x = user_dict[user_id]\n",
    "    scores = pd.Series(model.predict(user_x, np.arange(n_items), item_features = movies_metadata_csr))\n",
    "    scores.index = interactions.columns\n",
    "    scores = list(pd.Series(scores.sort_values(ascending=False).index))\n",
    "    \n",
    "    known_items = list(pd.Series(interactions.loc[user_id,:] \\\n",
    "                                 [interactions.loc[user_id,:] > threshold].index).sort_values(ascending=False))\n",
    "    \n",
    "    scores = [x for x in scores if x not in known_items]\n",
    "    return_score_list = scores[0:nrec_items]\n",
    "    known_items = list(pd.Series(known_items).apply(lambda x: item_dict[x]))\n",
    "    scores = list(pd.Series(return_score_list).apply(lambda x: item_dict[x]))\n",
    "    if show == True:\n",
    "        print (\"User: \" + str(user_id))\n",
    "        print(\"Known Likes:\")\n",
    "        counter = 1\n",
    "        for i in known_items:\n",
    "            print(str(counter) + '- ' + i + ' - ' + str(movies2.loc[movies2['title'] == i]['genres'])[:-28] )\n",
    "            counter+=1\n",
    "        print(\"\\n Recommended Items:\")\n",
    "        counter = 1\n",
    "        for i in scores:\n",
    "            print(str(counter) + '- ' + i+ ' - ' + str(movies2.loc[movies2['title'] == i]['genres'])[:-28] )\n",
    "            counter+=1\n",
    "            \n",
    "sample_recommendation_user(model, user_movie_interaction, 89, user_dict, item_dict)"
   ]
  },
  {
   "cell_type": "markdown",
   "id": "17b83c88",
   "metadata": {},
   "source": [
    "Рекомендованное кино не противоречит известным предпочтениям."
   ]
  },
  {
   "cell_type": "markdown",
   "id": "04b54d5e",
   "metadata": {},
   "source": [
    "Оценка полученной модели."
   ]
  },
  {
   "cell_type": "code",
   "execution_count": 24,
   "id": "86e28645",
   "metadata": {},
   "outputs": [
    {
     "name": "stdout",
     "output_type": "stream",
     "text": [
      "AUC: train 0.96, test 0.93.\n"
     ]
    }
   ],
   "source": [
    "from lightfm.evaluation import auc_score\n",
    "\n",
    "train_auc = auc_score(model, train, item_features=movies_metadata_csr).mean()\n",
    "test_auc = auc_score(model, test, item_features=movies_metadata_csr, train_interactions=train).mean()\n",
    "\n",
    "print('AUC: train %.2f, test %.2f.' % (train_auc, test_auc))"
   ]
  },
  {
   "cell_type": "markdown",
   "id": "57a44bc5",
   "metadata": {},
   "source": [
    "ROC AUC на тестовом наборе показывает значение 0.9, что является неплохим значением (идиально - 1). Можем сделать вывод, что составленный рейтинг имеет неплохое качество."
   ]
  },
  {
   "cell_type": "markdown",
   "id": "b0c33a81",
   "metadata": {},
   "source": [
    "# Выводы\n",
    "В ходе работы были реализованы две рекомендательные системы: ALS и LightFM. \n",
    "\n",
    "ALS использует только рейтинги фильмов указанные пользователями.\n",
    "\n",
    "LightFM использует рейтинги фильмов, а также указанные тэги название и жанры. \n",
    "\n",
    "Используя RMSE для оценки результатов ALS, можно сказать о не очень высокой точности предсказания оценки пользователя. Но рекомендованные фильмы, довольно близки по жанрам.\n",
    "\n",
    "Для оценки LightFM использовался AUC, на основе его значения, можно говорить о достаточно высокой точности рекомендательной системы.\n",
    "\n",
    "Выбор алгоритма должен основываться на имеющихся данных, а также вычислительных мощностях. Оба рекомендательных подхода способны выдавать рекомендации удовлетворяющие поставленным задачам."
   ]
  }
 ],
 "metadata": {
  "kernelspec": {
   "display_name": "Python 3 (ipykernel)",
   "language": "python",
   "name": "python3"
  },
  "language_info": {
   "codemirror_mode": {
    "name": "ipython",
    "version": 3
   },
   "file_extension": ".py",
   "mimetype": "text/x-python",
   "name": "python",
   "nbconvert_exporter": "python",
   "pygments_lexer": "ipython3",
   "version": "3.9.7"
  }
 },
 "nbformat": 4,
 "nbformat_minor": 5
}
